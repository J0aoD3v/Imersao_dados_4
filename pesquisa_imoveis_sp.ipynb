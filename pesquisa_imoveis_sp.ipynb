{
  "nbformat": 4,
  "nbformat_minor": 0,
  "metadata": {
    "colab": {
      "name": "pesquisa_imoveis_sp.ipynb",
      "provenance": [],
      "collapsed_sections": [],
      "authorship_tag": "ABX9TyOYVX2ZfirsZPbqY4ye+y/X",
      "include_colab_link": true
    },
    "kernelspec": {
      "name": "python3",
      "display_name": "Python 3"
    },
    "language_info": {
      "name": "python"
    }
  },
  "cells": [
    {
      "cell_type": "markdown",
      "metadata": {
        "id": "view-in-github",
        "colab_type": "text"
      },
      "source": [
        "<a href=\"https://colab.research.google.com/github/J0aoD3v/imersao_dados_4/blob/main/pesquisa_imoveis_sp.ipynb\" target=\"_parent\"><img src=\"https://colab.research.google.com/assets/colab-badge.svg\" alt=\"Open In Colab\"/></a>"
      ]
    },
    {
      "cell_type": "code",
      "execution_count": null,
      "metadata": {
        "id": "dTAbTAIM2JsR"
      },
      "outputs": [],
      "source": [
        "import pandas as pd\n",
        "url = \"https://gist.githubusercontent.com/tgcsantos/3bdb29eba6ce391e90df2b72205ba891/raw/22fa920e80c9fa209a9fccc8b52d74cc95d1599b/dados_imoveis.csv\"\n",
        "dados = pd.read_csv(url)"
      ]
    },
    {
      "cell_type": "markdown",
      "source": [
        "Desafios"
      ],
      "metadata": {
        "id": "6Jhf9tl1QcWZ"
      }
    },
    {
      "cell_type": "markdown",
      "source": [
        "1 - Realizar a média da metragem para cada um dos bairros. (Proposto pelo Paulo)"
      ],
      "metadata": {
        "id": "MIVDkuXJGPvp"
      }
    },
    {
      "cell_type": "code",
      "source": [
        "media_metragem_bairro=dados.groupby(\"Bairro\")[\"Metragem\"].mean()"
      ],
      "metadata": {
        "id": "E0VDcg1gG-WA"
      },
      "execution_count": null,
      "outputs": []
    },
    {
      "cell_type": "code",
      "source": [
        "media_metragem_bairro.head(10).plot.bar()"
      ],
      "metadata": {
        "id": "dX21PfWvJCK2",
        "outputId": "8c4dbd47-b5b4-412f-94ec-c3b7e9de1958",
        "colab": {
          "base_uri": "https://localhost:8080/",
          "height": 366
        }
      },
      "execution_count": null,
      "outputs": [
        {
          "output_type": "execute_result",
          "data": {
            "text/plain": [
              "<matplotlib.axes._subplots.AxesSubplot at 0x7f8648b92150>"
            ]
          },
          "metadata": {},
          "execution_count": 46
        },
        {
          "output_type": "display_data",
          "data": {
            "text/plain": [
              "<Figure size 432x288 with 1 Axes>"
            ],
            "image/png": "[encoded data removed]"
          },
          "metadata": {
            "needs_background": "light"
          }
        }
      ]
    },
    {
      "cell_type": "markdown",
      "source": [
        "2 - Duas formas de selecionar os dados por bairro (consultar os métodos na documentação do Pandas). (Proposto pelo Thiago)"
      ],
      "metadata": {
        "id": "EpYtsyvLLVaQ"
      }
    },
    {
      "cell_type": "markdown",
      "source": [
        "Por rótulo"
      ],
      "metadata": {
        "id": "gU8ZrzGfL1mr"
      }
    },
    {
      "cell_type": "code",
      "source": [
        "dados.loc[dados[\"Bairro\"] == \"Vila Mariana\"]"
      ],
      "metadata": {
        "id": "O1GA8pT2LZjR"
      },
      "execution_count": null,
      "outputs": []
    },
    {
      "cell_type": "markdown",
      "source": [
        "Por índice"
      ],
      "metadata": {
        "id": "MAcqEq-BL3QV"
      }
    },
    {
      "cell_type": "code",
      "source": [
        "dados[0:5]"
      ],
      "metadata": {
        "id": "aIoF_MWmL3uF"
      },
      "execution_count": null,
      "outputs": []
    },
    {
      "cell_type": "markdown",
      "source": [
        "3 - Explorar alguns gráficos na documentação e aplicar nas demais colunas do DF, assim como tentar colocar alguma conclusão. (Proposto pelo Thiago)"
      ],
      "metadata": {
        "id": "0Eru08u8Lkn6"
      }
    },
    {
      "cell_type": "code",
      "source": [
        "n_imoveis_bairro=dados[\"Bairro\"].value_counts()"
      ],
      "metadata": {
        "id": "iS7Dj_E-Mhhy"
      },
      "execution_count": null,
      "outputs": []
    },
    {
      "cell_type": "code",
      "source": [
        "n_imoveis_bairro.head(4).plot.line()"
      ],
      "metadata": {
        "id": "YM2Bp2KOMHg4",
        "outputId": "55674d51-0e15-4bab-ee1a-3cc02fd96442",
        "colab": {
          "base_uri": "https://localhost:8080/",
          "height": 242
        }
      },
      "execution_count": null,
      "outputs": [
        {
          "output_type": "execute_result",
          "data": {
            "text/plain": [
              "<matplotlib.axes._subplots.AxesSubplot at 0x7f86488a33d0>"
            ]
          },
          "metadata": {},
          "execution_count": 59
        },
        {
          "output_type": "display_data",
          "data": {
            "text/plain": [
              "<Figure size 432x288 with 1 Axes>"
            ],
            "image/png": "[encoded data removed]"
          },
          "metadata": {
            "needs_background": "light"
          }
        }
      ]
    },
    {
      "cell_type": "code",
      "source": [
        "n_imoveis_bairro.head(10).plot.barh()"
      ],
      "metadata": {
        "id": "rrdT8HpbNThf",
        "outputId": "ca0fc167-dfda-4202-a58b-7f40b68d30e1",
        "colab": {
          "base_uri": "https://localhost:8080/",
          "height": 226
        }
      },
      "execution_count": null,
      "outputs": [
        {
          "output_type": "execute_result",
          "data": {
            "text/plain": [
              "<matplotlib.axes._subplots.AxesSubplot at 0x7f86487782d0>"
            ]
          },
          "metadata": {},
          "execution_count": 61
        },
        {
          "output_type": "display_data",
          "data": {
            "text/plain": [
              "<Figure size 432x288 with 1 Axes>"
            ],
            "image/png": "[encoded data removed]"
          },
          "metadata": {
            "needs_background": "light"
          }
        }
      ]
    },
    {
      "cell_type": "markdown",
      "source": [
        "4 - Pegar outras estatísticas dos dados (como média, mediana, mim, max). (Proposto pela Vivian)"
      ],
      "metadata": {
        "id": "-oVfR0erNZlA"
      }
    },
    {
      "cell_type": "code",
      "source": [
        "min_metragem = dados[\"Metragem\"].min()\n",
        "max_metragem = dados[\"Metragem\"].max()\n",
        "media_metragem = dados[\"Metragem\"].mean()\n",
        "mediana_metragem = dados[\"Metragem\"].median()\n",
        "moda_metragem = dados[\"Metragem\"].mode()\n",
        "\n",
        "print(f\"Menor metragem: {min_metragem}\")\n",
        "print(f\"Maior metragem: {max_metragem}\")\n",
        "print(f\"Media: {media_metragem}\")\n",
        "print(f\"Mediana: {mediana_metragem}\")\n",
        "print(f\"Moda: {moda_metragem}\")"
      ],
      "metadata": {
        "id": "HuAKN2QNNeDP",
        "outputId": "294ab0f2-1c75-44e1-af6e-2632b9e7012a",
        "colab": {
          "base_uri": "https://localhost:8080/"
        }
      },
      "execution_count": null,
      "outputs": [
        {
          "output_type": "stream",
          "name": "stdout",
          "text": [
            "Menor metragem: 10\n",
            "Maior metragem: 750000\n",
            "Media: 442.30065947242207\n",
            "Mediana: 290.0\n",
            "Moda: 0    200\n",
            "dtype: int64\n"
          ]
        }
      ]
    },
    {
      "cell_type": "markdown",
      "source": [
        "5 - Descobrir quais são os bairros que não tem nome de rua. (Proposto pela Vivian)"
      ],
      "metadata": {
        "id": "T8ou6RiRNnze"
      }
    },
    {
      "cell_type": "code",
      "source": [
        "rua_sem_nome = dados[\"Rua\"].isnull()\n",
        "r_semnome = dados[rua_sem_nome][\"Bairro\"]"
      ],
      "metadata": {
        "id": "zxWOuBHMNrNJ"
      },
      "execution_count": null,
      "outputs": []
    },
    {
      "cell_type": "code",
      "source": [
        "r_semnome.value_counts().head(10).plot.barh()"
      ],
      "metadata": {
        "id": "GplD_oq8N-S6",
        "outputId": "9fb98a2b-159d-4d88-b818-d8850f8e398f",
        "colab": {
          "base_uri": "https://localhost:8080/",
          "height": 226
        }
      },
      "execution_count": null,
      "outputs": [
        {
          "output_type": "execute_result",
          "data": {
            "text/plain": [
              "<matplotlib.axes._subplots.AxesSubplot at 0x7f8648601b10>"
            ]
          },
          "metadata": {},
          "execution_count": 70
        },
        {
          "output_type": "display_data",
          "data": {
            "text/plain": [
              "<Figure size 432x288 with 1 Axes>"
            ],
            "image/png": "[encoded data removed]"
          },
          "metadata": {
            "needs_background": "light"
          }
        }
      ]
    }
  ]
}